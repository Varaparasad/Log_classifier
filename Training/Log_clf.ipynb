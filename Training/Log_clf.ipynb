{
 "cells": [
  {
   "cell_type": "code",
   "execution_count": 10,
   "id": "7d51300a-0237-4a40-9de8-a1de2b579513",
   "metadata": {},
   "outputs": [],
   "source": [
    "import pandas as pd\n",
    "import numpy as np \n",
    "import matplotlib.pyplot as plt\n",
    "import seaborn as sns\n",
    "import warnings\n",
    "warnings.filterwarnings('ignore')"
   ]
  },
  {
   "cell_type": "code",
   "execution_count": 89,
   "id": "e8825bb3-d590-4eb4-85b8-59936d989e31",
   "metadata": {},
   "outputs": [],
   "source": [
    "from sklearn.model_selection import train_test_split\n",
    "from sklearn.linear_model import LogisticRegression\n",
    "from sklearn.metrics import classification_report\n",
    "from sklearn.metrics import confusion_matrix"
   ]
  },
  {
   "cell_type": "code",
   "execution_count": 2,
   "id": "895be24a-e02d-4601-945b-69d0886d3c5a",
   "metadata": {},
   "outputs": [
    {
     "data": {
      "text/html": [
       "<div>\n",
       "<style scoped>\n",
       "    .dataframe tbody tr th:only-of-type {\n",
       "        vertical-align: middle;\n",
       "    }\n",
       "\n",
       "    .dataframe tbody tr th {\n",
       "        vertical-align: top;\n",
       "    }\n",
       "\n",
       "    .dataframe thead th {\n",
       "        text-align: right;\n",
       "    }\n",
       "</style>\n",
       "<table border=\"1\" class=\"dataframe\">\n",
       "  <thead>\n",
       "    <tr style=\"text-align: right;\">\n",
       "      <th></th>\n",
       "      <th>timestamp</th>\n",
       "      <th>source</th>\n",
       "      <th>log_message</th>\n",
       "      <th>target_label</th>\n",
       "    </tr>\n",
       "  </thead>\n",
       "  <tbody>\n",
       "    <tr>\n",
       "      <th>0</th>\n",
       "      <td>2025-06-27 07:20:25</td>\n",
       "      <td>ModernCRM</td>\n",
       "      <td>nova.osapi_compute.wsgi.server [req-b9718cd8-f...</td>\n",
       "      <td>HTTP Status</td>\n",
       "    </tr>\n",
       "    <tr>\n",
       "      <th>1</th>\n",
       "      <td>1/14/2025 23:07</td>\n",
       "      <td>ModernCRM</td>\n",
       "      <td>Email service experiencing issues with sending</td>\n",
       "      <td>Critical Error</td>\n",
       "    </tr>\n",
       "    <tr>\n",
       "      <th>2</th>\n",
       "      <td>1/17/2025 1:29</td>\n",
       "      <td>AnalyticsEngine</td>\n",
       "      <td>Unauthorized access to data was attempted</td>\n",
       "      <td>Security Alert</td>\n",
       "    </tr>\n",
       "    <tr>\n",
       "      <th>3</th>\n",
       "      <td>2025-07-12 00:24:16</td>\n",
       "      <td>ModernHR</td>\n",
       "      <td>nova.osapi_compute.wsgi.server [req-4895c258-b...</td>\n",
       "      <td>HTTP Status</td>\n",
       "    </tr>\n",
       "    <tr>\n",
       "      <th>4</th>\n",
       "      <td>2025-06-02 18:25:23</td>\n",
       "      <td>BillingSystem</td>\n",
       "      <td>nova.osapi_compute.wsgi.server [req-ee8bc8ba-9...</td>\n",
       "      <td>HTTP Status</td>\n",
       "    </tr>\n",
       "  </tbody>\n",
       "</table>\n",
       "</div>"
      ],
      "text/plain": [
       "             timestamp           source  \\\n",
       "0  2025-06-27 07:20:25        ModernCRM   \n",
       "1      1/14/2025 23:07        ModernCRM   \n",
       "2       1/17/2025 1:29  AnalyticsEngine   \n",
       "3  2025-07-12 00:24:16         ModernHR   \n",
       "4  2025-06-02 18:25:23    BillingSystem   \n",
       "\n",
       "                                         log_message    target_label  \n",
       "0  nova.osapi_compute.wsgi.server [req-b9718cd8-f...     HTTP Status  \n",
       "1     Email service experiencing issues with sending  Critical Error  \n",
       "2          Unauthorized access to data was attempted  Security Alert  \n",
       "3  nova.osapi_compute.wsgi.server [req-4895c258-b...     HTTP Status  \n",
       "4  nova.osapi_compute.wsgi.server [req-ee8bc8ba-9...     HTTP Status  "
      ]
     },
     "execution_count": 2,
     "metadata": {},
     "output_type": "execute_result"
    }
   ],
   "source": [
    "df=pd.read_csv('logs_dataset.csv')\n",
    "df.head()"
   ]
  },
  {
   "cell_type": "code",
   "execution_count": 3,
   "id": "0fcdc939-6816-46a7-b82b-2ac620c22851",
   "metadata": {},
   "outputs": [
    {
     "data": {
      "text/plain": [
       "(2410, 4)"
      ]
     },
     "execution_count": 3,
     "metadata": {},
     "output_type": "execute_result"
    }
   ],
   "source": [
    "df.shape"
   ]
  },
  {
   "cell_type": "code",
   "execution_count": 4,
   "id": "d10a2242-c2f6-411b-8df9-b58960c84c91",
   "metadata": {},
   "outputs": [
    {
     "data": {
      "text/plain": [
       "array(['HTTP Status', 'Critical Error', 'Security Alert', 'Error',\n",
       "       'System Notification', 'Resource Usage', 'User Action',\n",
       "       'Workflow Error', 'Deprecation Warning'], dtype=object)"
      ]
     },
     "execution_count": 4,
     "metadata": {},
     "output_type": "execute_result"
    }
   ],
   "source": [
    "df.target_label.unique()"
   ]
  },
  {
   "cell_type": "code",
   "execution_count": 5,
   "id": "24d43774-0764-4d67-8b61-bae2c65e95c0",
   "metadata": {},
   "outputs": [
    {
     "data": {
      "text/plain": [
       "array(['ModernCRM', 'AnalyticsEngine', 'ModernHR', 'BillingSystem',\n",
       "       'ThirdPartyAPI', 'LegacyCRM'], dtype=object)"
      ]
     },
     "execution_count": 5,
     "metadata": {},
     "output_type": "execute_result"
    }
   ],
   "source": [
    "df.source.unique()"
   ]
  },
  {
   "cell_type": "code",
   "execution_count": 6,
   "id": "efd1c0de-5d80-4aa7-9b25-91f6f904dc83",
   "metadata": {},
   "outputs": [
    {
     "data": {
      "text/plain": [
       "{'ModernCRM': array(['HTTP Status', 'Critical Error', 'Error', 'System Notification',\n",
       "        'User Action', 'Resource Usage', 'Security Alert'], dtype=object),\n",
       " 'AnalyticsEngine': array(['Security Alert', 'HTTP Status', 'System Notification', 'Error',\n",
       "        'User Action', 'Resource Usage', 'Critical Error'], dtype=object),\n",
       " 'ModernHR': array(['HTTP Status', 'Error', 'System Notification', 'Critical Error',\n",
       "        'Security Alert', 'Resource Usage', 'User Action'], dtype=object),\n",
       " 'BillingSystem': array(['HTTP Status', 'System Notification', 'Security Alert',\n",
       "        'Resource Usage', 'Critical Error', 'Error', 'User Action'],\n",
       "       dtype=object),\n",
       " 'ThirdPartyAPI': array(['Resource Usage', 'Security Alert', 'System Notification',\n",
       "        'HTTP Status', 'User Action', 'Critical Error', 'Error'],\n",
       "       dtype=object),\n",
       " 'LegacyCRM': array(['Workflow Error', 'Deprecation Warning'], dtype=object)}"
      ]
     },
     "execution_count": 6,
     "metadata": {},
     "output_type": "execute_result"
    }
   ],
   "source": [
    "dict={}\n",
    "for val in df.source.unique():\n",
    "    dict[val]=df[df['source']==val].target_label.unique()\n",
    "dict"
   ]
  },
  {
   "cell_type": "markdown",
   "id": "074b9446-22b6-4196-96c4-81207e98984e",
   "metadata": {},
   "source": [
    "### Clustering"
   ]
  },
  {
   "cell_type": "code",
   "execution_count": 11,
   "id": "d569016f-c795-4a6d-85df-8e9e63f321a3",
   "metadata": {},
   "outputs": [],
   "source": [
    "from sklearn.cluster import DBSCAN\n",
    "from sentence_transformers import SentenceTransformer"
   ]
  },
  {
   "cell_type": "code",
   "execution_count": 14,
   "id": "523aaebb-90eb-4f5b-8c34-7ed16b2febd7",
   "metadata": {},
   "outputs": [
    {
     "data": {
      "application/vnd.jupyter.widget-view+json": {
       "model_id": "01266f2cb22d42a595d35b386a7f5c4d",
       "version_major": 2,
       "version_minor": 0
      },
      "text/plain": [
       "modules.json:   0%|          | 0.00/349 [00:00<?, ?B/s]"
      ]
     },
     "metadata": {},
     "output_type": "display_data"
    },
    {
     "data": {
      "application/vnd.jupyter.widget-view+json": {
       "model_id": "f65a3544ab00463996b113ab6cdbc906",
       "version_major": 2,
       "version_minor": 0
      },
      "text/plain": [
       "config_sentence_transformers.json:   0%|          | 0.00/116 [00:00<?, ?B/s]"
      ]
     },
     "metadata": {},
     "output_type": "display_data"
    },
    {
     "data": {
      "application/vnd.jupyter.widget-view+json": {
       "model_id": "811dc1ce38394e3ebe48d5301de9ce2e",
       "version_major": 2,
       "version_minor": 0
      },
      "text/plain": [
       "README.md: 0.00B [00:00, ?B/s]"
      ]
     },
     "metadata": {},
     "output_type": "display_data"
    },
    {
     "data": {
      "application/vnd.jupyter.widget-view+json": {
       "model_id": "81f7244722a8400bace714611758452d",
       "version_major": 2,
       "version_minor": 0
      },
      "text/plain": [
       "sentence_bert_config.json:   0%|          | 0.00/53.0 [00:00<?, ?B/s]"
      ]
     },
     "metadata": {},
     "output_type": "display_data"
    },
    {
     "data": {
      "application/vnd.jupyter.widget-view+json": {
       "model_id": "89fa72a3ffd6411191df27a4be2b21dc",
       "version_major": 2,
       "version_minor": 0
      },
      "text/plain": [
       "config.json:   0%|          | 0.00/612 [00:00<?, ?B/s]"
      ]
     },
     "metadata": {},
     "output_type": "display_data"
    },
    {
     "name": "stderr",
     "output_type": "stream",
     "text": [
      "Xet Storage is enabled for this repo, but the 'hf_xet' package is not installed. Falling back to regular HTTP download. For better performance, install the package with: `pip install huggingface_hub[hf_xet]` or `pip install hf_xet`\n"
     ]
    },
    {
     "data": {
      "application/vnd.jupyter.widget-view+json": {
       "model_id": "3cb332aeb156496885efc0cc24ccfdcc",
       "version_major": 2,
       "version_minor": 0
      },
      "text/plain": [
       "model.safetensors:   0%|          | 0.00/90.9M [00:00<?, ?B/s]"
      ]
     },
     "metadata": {},
     "output_type": "display_data"
    },
    {
     "data": {
      "application/vnd.jupyter.widget-view+json": {
       "model_id": "5abbdf5da1cd40c6afe3c5c371d09559",
       "version_major": 2,
       "version_minor": 0
      },
      "text/plain": [
       "tokenizer_config.json:   0%|          | 0.00/350 [00:00<?, ?B/s]"
      ]
     },
     "metadata": {},
     "output_type": "display_data"
    },
    {
     "data": {
      "application/vnd.jupyter.widget-view+json": {
       "model_id": "1f76e066ccd94e80a481c7b42d43db9f",
       "version_major": 2,
       "version_minor": 0
      },
      "text/plain": [
       "vocab.txt: 0.00B [00:00, ?B/s]"
      ]
     },
     "metadata": {},
     "output_type": "display_data"
    },
    {
     "data": {
      "application/vnd.jupyter.widget-view+json": {
       "model_id": "697fae13d911487cb6e18a9cb120e89d",
       "version_major": 2,
       "version_minor": 0
      },
      "text/plain": [
       "tokenizer.json: 0.00B [00:00, ?B/s]"
      ]
     },
     "metadata": {},
     "output_type": "display_data"
    },
    {
     "data": {
      "application/vnd.jupyter.widget-view+json": {
       "model_id": "f180dfc93f914416bbc3e3df78045b14",
       "version_major": 2,
       "version_minor": 0
      },
      "text/plain": [
       "special_tokens_map.json:   0%|          | 0.00/112 [00:00<?, ?B/s]"
      ]
     },
     "metadata": {},
     "output_type": "display_data"
    },
    {
     "data": {
      "application/vnd.jupyter.widget-view+json": {
       "model_id": "cfc6f1c01f524a1589784673534eeece",
       "version_major": 2,
       "version_minor": 0
      },
      "text/plain": [
       "config.json:   0%|          | 0.00/190 [00:00<?, ?B/s]"
      ]
     },
     "metadata": {},
     "output_type": "display_data"
    }
   ],
   "source": [
    "import os\n",
    "\n",
    "# Set a higher timeout in seconds (e.g., 600 seconds = 10 minutes)\n",
    "os.environ['HF_HUB_DOWNLOAD_TIMEOUT'] = '600'\n",
    "\n",
    "model = SentenceTransformer('all-MiniLM-L6-v2')\n",
    "embeddings = model.encode(df['log_message'].tolist())"
   ]
  },
  {
   "cell_type": "code",
   "execution_count": 18,
   "id": "8adbe342-2dd5-419e-aa4a-bf7941de7478",
   "metadata": {
    "scrolled": true
   },
   "outputs": [
    {
     "data": {
      "text/plain": [
       "(2410, 384)"
      ]
     },
     "execution_count": 18,
     "metadata": {},
     "output_type": "execute_result"
    }
   ],
   "source": [
    "embeddings.shape"
   ]
  },
  {
   "cell_type": "code",
   "execution_count": 19,
   "id": "ad7c0991-fec5-4390-8eb1-5b9894d6c8ee",
   "metadata": {},
   "outputs": [],
   "source": [
    "clustering=DBSCAN(min_samples=1,eps=0.2,metric='cosine').fit(embeddings)\n",
    "df['cluster']=clustering.labels_"
   ]
  },
  {
   "cell_type": "code",
   "execution_count": 39,
   "id": "555b7084-7c9c-4ccd-8cfc-b0be222ba7ed",
   "metadata": {},
   "outputs": [
    {
     "data": {
      "text/plain": [
       "cluster\n",
       "0      1017\n",
       "5       147\n",
       "11      100\n",
       "13       86\n",
       "7        60\n",
       "       ... \n",
       "131       1\n",
       "132       1\n",
       "133       1\n",
       "134       1\n",
       "135       1\n",
       "Name: count, Length: 136, dtype: int64"
      ]
     },
     "execution_count": 39,
     "metadata": {},
     "output_type": "execute_result"
    }
   ],
   "source": [
    "df.cluster.value_counts()"
   ]
  },
  {
   "cell_type": "code",
   "execution_count": 23,
   "id": "1c63e674-b679-44ae-a9d4-7fac51aa574d",
   "metadata": {},
   "outputs": [
    {
     "data": {
      "text/plain": [
       "array(['HTTP Status'], dtype=object)"
      ]
     },
     "execution_count": 23,
     "metadata": {},
     "output_type": "execute_result"
    }
   ],
   "source": [
    "df[df['cluster']==0].target_label.unique()"
   ]
  },
  {
   "cell_type": "code",
   "execution_count": 68,
   "id": "2c860097-0b6f-4def-928e-d9f31d4faab7",
   "metadata": {
    "scrolled": true
   },
   "outputs": [
    {
     "name": "stdout",
     "output_type": "stream",
     "text": [
      "0 1017 -----> ['HTTP Status']\n",
      "5 147 -----> ['Resource Usage']\n",
      "11 100 -----> ['User Action']\n",
      "13 86 -----> ['System Notification']\n",
      "7 60 -----> ['Security Alert']\n",
      "8 60 -----> ['System Notification']\n",
      "21 58 -----> ['System Notification']\n",
      "3 57 -----> ['Error']\n",
      "4 53 -----> ['System Notification']\n",
      "17 52 -----> ['Security Alert']\n",
      "6 51 -----> ['Critical Error']\n",
      "32 51 -----> ['System Notification']\n",
      "16 48 -----> ['System Notification']\n",
      "20 48 -----> ['Security Alert']\n",
      "9 44 -----> ['User Action']\n",
      "1 39 -----> ['Critical Error' 'Error']\n",
      "10 30 -----> ['Resource Usage']\n",
      "34 25 -----> ['Security Alert']\n",
      "53 20 -----> ['Error']\n",
      "14 20 -----> ['Critical Error']\n",
      "52 20 -----> ['Error']\n",
      "18 17 -----> ['Critical Error']\n",
      "42 13 -----> ['Security Alert']\n",
      "25 13 -----> ['Critical Error']\n",
      "59 12 -----> ['Security Alert']\n",
      "26 11 -----> ['Security Alert']\n",
      "31 8 -----> ['Security Alert']\n",
      "51 8 -----> ['Error']\n",
      "70 6 -----> ['Security Alert']\n",
      "12 6 -----> ['Security Alert']\n",
      "45 6 -----> ['Security Alert']\n",
      "38 6 -----> ['Security Alert']\n",
      "93 6 -----> ['Error']\n",
      "66 6 -----> ['Security Alert']\n",
      "82 6 -----> ['Error']\n",
      "76 4 -----> ['Security Alert']\n",
      "97 4 -----> ['Security Alert']\n",
      "2 3 -----> ['Security Alert']\n",
      "19 3 -----> ['Security Alert']\n",
      "15 3 -----> ['Security Alert']\n",
      "67 3 -----> ['Critical Error']\n",
      "69 3 -----> ['Security Alert']\n",
      "65 3 -----> ['Critical Error']\n",
      "64 3 -----> ['Security Alert']\n",
      "33 3 -----> ['Security Alert']\n",
      "39 3 -----> ['Security Alert']\n",
      "37 3 -----> ['Error']\n",
      "35 3 -----> ['Security Alert']\n",
      "54 3 -----> ['Security Alert']\n",
      "50 3 -----> ['Error']\n",
      "63 3 -----> ['Security Alert']\n",
      "60 3 -----> ['Security Alert']\n",
      "56 3 -----> ['Error']\n",
      "46 3 -----> ['Error']\n",
      "44 3 -----> ['Security Alert']\n",
      "41 3 -----> ['Security Alert']\n",
      "71 3 -----> ['Error']\n",
      "58 3 -----> ['Error']\n",
      "57 3 -----> ['Error']\n",
      "88 3 -----> ['Error']\n",
      "94 3 -----> ['Security Alert']\n",
      "101 3 -----> ['Security Alert']\n",
      "98 3 -----> ['Security Alert']\n",
      "89 3 -----> ['Error']\n",
      "72 3 -----> ['Security Alert']\n",
      "78 3 -----> ['Error']\n",
      "87 3 -----> ['Security Alert']\n",
      "84 3 -----> ['Security Alert']\n",
      "23 3 -----> ['Error']\n",
      "22 3 -----> ['Error']\n",
      "29 3 -----> ['Security Alert']\n",
      "27 3 -----> ['Critical Error']\n",
      "107 3 -----> ['Security Alert']\n",
      "117 3 -----> ['Security Alert']\n",
      "104 3 -----> ['Critical Error']\n",
      "75 3 -----> ['Security Alert']\n",
      "80 3 -----> ['Error']\n",
      "90 3 -----> ['Security Alert']\n",
      "116 2 -----> ['Critical Error']\n",
      "96 2 -----> ['Security Alert']\n",
      "120 2 -----> ['Critical Error']\n",
      "36 2 -----> ['Critical Error']\n",
      "47 2 -----> ['Security Alert']\n",
      "61 2 -----> ['Security Alert']\n",
      "30 2 -----> ['Critical Error']\n",
      "74 2 -----> ['Security Alert']\n",
      "79 2 -----> ['Security Alert']\n",
      "83 2 -----> ['Critical Error']\n",
      "123 2 -----> ['Critical Error']\n",
      "68 1 -----> ['Security Alert']\n",
      "48 1 -----> ['Deprecation Warning']\n",
      "43 1 -----> ['Critical Error']\n",
      "40 1 -----> ['Critical Error']\n",
      "49 1 -----> ['Security Alert']\n",
      "55 1 -----> ['Security Alert']\n",
      "24 1 -----> ['Workflow Error']\n",
      "28 1 -----> ['Security Alert']\n",
      "62 1 -----> ['Workflow Error']\n",
      "86 1 -----> ['Security Alert']\n",
      "95 1 -----> ['Critical Error']\n",
      "73 1 -----> ['Security Alert']\n",
      "85 1 -----> ['Critical Error']\n",
      "81 1 -----> ['Critical Error']\n",
      "77 1 -----> ['Security Alert']\n",
      "103 1 -----> ['Security Alert']\n",
      "102 1 -----> ['Critical Error']\n",
      "100 1 -----> ['Error']\n",
      "99 1 -----> ['Security Alert']\n",
      "92 1 -----> ['Critical Error']\n",
      "91 1 -----> ['Critical Error']\n",
      "108 1 -----> ['Critical Error']\n",
      "109 1 -----> ['Security Alert']\n",
      "111 1 -----> ['Critical Error']\n",
      "110 1 -----> ['Security Alert']\n",
      "112 1 -----> ['Security Alert']\n",
      "113 1 -----> ['Security Alert']\n",
      "115 1 -----> ['Critical Error']\n",
      "114 1 -----> ['Security Alert']\n",
      "105 1 -----> ['Workflow Error']\n",
      "106 1 -----> ['Error']\n",
      "119 1 -----> ['Security Alert']\n",
      "118 1 -----> ['Deprecation Warning']\n",
      "121 1 -----> ['Security Alert']\n",
      "122 1 -----> ['Deprecation Warning']\n",
      "124 1 -----> ['Security Alert']\n",
      "125 1 -----> ['Critical Error']\n",
      "126 1 -----> ['Critical Error']\n",
      "127 1 -----> ['Security Alert']\n",
      "128 1 -----> ['Security Alert']\n",
      "129 1 -----> ['Security Alert']\n",
      "130 1 -----> ['Critical Error']\n",
      "131 1 -----> ['Critical Error']\n",
      "132 1 -----> ['Security Alert']\n",
      "133 1 -----> ['Workflow Error']\n",
      "134 1 -----> ['Critical Error']\n",
      "135 1 -----> ['Security Alert']\n"
     ]
    }
   ],
   "source": [
    "for index,val in df.cluster.value_counts().items():\n",
    "    print(index,val,'----->',df[df['cluster']==index].target_label.unique())"
   ]
  },
  {
   "cell_type": "code",
   "execution_count": 29,
   "id": "969d1ef8-4a7d-469a-8ad8-6148fbca1452",
   "metadata": {},
   "outputs": [
    {
     "data": {
      "text/html": [
       "<div>\n",
       "<style scoped>\n",
       "    .dataframe tbody tr th:only-of-type {\n",
       "        vertical-align: middle;\n",
       "    }\n",
       "\n",
       "    .dataframe tbody tr th {\n",
       "        vertical-align: top;\n",
       "    }\n",
       "\n",
       "    .dataframe thead th {\n",
       "        text-align: right;\n",
       "    }\n",
       "</style>\n",
       "<table border=\"1\" class=\"dataframe\">\n",
       "  <thead>\n",
       "    <tr style=\"text-align: right;\">\n",
       "      <th></th>\n",
       "      <th>timestamp</th>\n",
       "      <th>source</th>\n",
       "      <th>log_message</th>\n",
       "      <th>target_label</th>\n",
       "      <th>cluster</th>\n",
       "    </tr>\n",
       "  </thead>\n",
       "  <tbody>\n",
       "    <tr>\n",
       "      <th>55</th>\n",
       "      <td>6/18/2025 11:21</td>\n",
       "      <td>AnalyticsEngine</td>\n",
       "      <td>Server 34 crashed unexpectedly while syncing data</td>\n",
       "      <td>Error</td>\n",
       "      <td>23</td>\n",
       "    </tr>\n",
       "    <tr>\n",
       "      <th>1043</th>\n",
       "      <td>11/9/2025 19:53</td>\n",
       "      <td>ThirdPartyAPI</td>\n",
       "      <td>Server 44 crashed unexpectedly while syncing data</td>\n",
       "      <td>Error</td>\n",
       "      <td>23</td>\n",
       "    </tr>\n",
       "    <tr>\n",
       "      <th>2034</th>\n",
       "      <td>11/25/2025 12:27</td>\n",
       "      <td>ModernCRM</td>\n",
       "      <td>Server 43 crashed unexpectedly while syncing data</td>\n",
       "      <td>Error</td>\n",
       "      <td>23</td>\n",
       "    </tr>\n",
       "  </tbody>\n",
       "</table>\n",
       "</div>"
      ],
      "text/plain": [
       "             timestamp           source  \\\n",
       "55     6/18/2025 11:21  AnalyticsEngine   \n",
       "1043   11/9/2025 19:53    ThirdPartyAPI   \n",
       "2034  11/25/2025 12:27        ModernCRM   \n",
       "\n",
       "                                            log_message target_label  cluster  \n",
       "55    Server 34 crashed unexpectedly while syncing data        Error       23  \n",
       "1043  Server 44 crashed unexpectedly while syncing data        Error       23  \n",
       "2034  Server 43 crashed unexpectedly while syncing data        Error       23  "
      ]
     },
     "execution_count": 29,
     "metadata": {},
     "output_type": "execute_result"
    }
   ],
   "source": [
    "df[df['cluster']==23]"
   ]
  },
  {
   "cell_type": "code",
   "execution_count": 31,
   "id": "cb33a643-5357-47fc-ace8-8404b20cecc9",
   "metadata": {},
   "outputs": [
    {
     "data": {
      "text/html": [
       "<div>\n",
       "<style scoped>\n",
       "    .dataframe tbody tr th:only-of-type {\n",
       "        vertical-align: middle;\n",
       "    }\n",
       "\n",
       "    .dataframe tbody tr th {\n",
       "        vertical-align: top;\n",
       "    }\n",
       "\n",
       "    .dataframe thead th {\n",
       "        text-align: right;\n",
       "    }\n",
       "</style>\n",
       "<table border=\"1\" class=\"dataframe\">\n",
       "  <thead>\n",
       "    <tr style=\"text-align: right;\">\n",
       "      <th></th>\n",
       "      <th>timestamp</th>\n",
       "      <th>source</th>\n",
       "      <th>log_message</th>\n",
       "      <th>target_label</th>\n",
       "      <th>cluster</th>\n",
       "    </tr>\n",
       "  </thead>\n",
       "  <tbody>\n",
       "    <tr>\n",
       "      <th>51</th>\n",
       "      <td>8/19/2025 5:58</td>\n",
       "      <td>ThirdPartyAPI</td>\n",
       "      <td>Server 4 restarted without warning during data...</td>\n",
       "      <td>Error</td>\n",
       "      <td>22</td>\n",
       "    </tr>\n",
       "    <tr>\n",
       "      <th>187</th>\n",
       "      <td>8/26/2025 11:40</td>\n",
       "      <td>ModernCRM</td>\n",
       "      <td>Server 46 restarted without warning during dat...</td>\n",
       "      <td>Error</td>\n",
       "      <td>22</td>\n",
       "    </tr>\n",
       "    <tr>\n",
       "      <th>1690</th>\n",
       "      <td>12/6/2025 2:36</td>\n",
       "      <td>BillingSystem</td>\n",
       "      <td>Server 7 restarted without warning during data...</td>\n",
       "      <td>Error</td>\n",
       "      <td>22</td>\n",
       "    </tr>\n",
       "  </tbody>\n",
       "</table>\n",
       "</div>"
      ],
      "text/plain": [
       "            timestamp         source  \\\n",
       "51     8/19/2025 5:58  ThirdPartyAPI   \n",
       "187   8/26/2025 11:40      ModernCRM   \n",
       "1690   12/6/2025 2:36  BillingSystem   \n",
       "\n",
       "                                            log_message target_label  cluster  \n",
       "51    Server 4 restarted without warning during data...        Error       22  \n",
       "187   Server 46 restarted without warning during dat...        Error       22  \n",
       "1690  Server 7 restarted without warning during data...        Error       22  "
      ]
     },
     "execution_count": 31,
     "metadata": {},
     "output_type": "execute_result"
    }
   ],
   "source": [
    "df[df['cluster']==22]"
   ]
  },
  {
   "cell_type": "code",
   "execution_count": 57,
   "id": "71881665-2364-40b8-8ca0-7ed4768c1a60",
   "metadata": {
    "scrolled": true
   },
   "outputs": [
    {
     "name": "stdout",
     "output_type": "stream",
     "text": [
      "cluster (0, 1017)------>Messages:\n",
      "['nova.osapi_compute.wsgi.server [req-b9718cd8-f65e-49cc-8349-6cf7122af137 113d3a99c3da401fbd62cc2caa5b96d2 54fadb412c4e40cdbaed9335e4c35a9e - - -] 10.11.10.1 \"GET /v2/54fadb412c4e40cdbaed9335e4c35a9e/servers/detail HTTP/1.1\" status: 200 len: 1893 time: 0.2675118'\n",
      " 'nova.osapi_compute.wsgi.server [req-4895c258-b2f8-488f-a2a3-4fae63982e48 113d3a99c3da401fbd62cc2caa5b96d2 54fadb412c4e40cdbaed9335e4c35a9e - - -] 10.11.10.1 \"GET /v2/54fadb412c4e40cdbaed9335e4c35a9e/servers/detail HTTP/1.1\" HTTP status code -  200 len: 211 time: 0.0968180'\n",
      " 'nova.osapi_compute.wsgi.server [req-ee8bc8ba-9265-4280-9215-dbe000a41209 113d3a99c3da401fbd62cc2caa5b96d2 54fadb412c4e40cdbaed9335e4c35a9e - - -] 10.11.10.1 \"GET /v2/54fadb412c4e40cdbaed9335e4c35a9e/servers/detail HTTP/1.1\" RCODE  200 len: 1874 time: 0.2280791'\n",
      " 'nova.osapi_compute.wsgi.server [req-f0bffbc3-5ab0-4916-91c1-0a61dd7d4ec2 113d3a99c3da401fbd62cc2caa5b96d2 54fadb412c4e40cdbaed9335e4c35a9e - - -] 10.11.10.1 \"GET /v2/54fadb412c4e40cdbaed9335e4c35a9e/servers/detail HTTP/1.1\" Return code: 200 len: 1874 time: 0.2131531'\n",
      " 'nova.osapi_compute.wsgi.server [req-2bf7cfee-a236-42f3-8fb1-96fefab0b302 113d3a99c3da401fbd62cc2caa5b96d2 54fadb412c4e40cdbaed9335e4c35a9e - - -] 10.11.10.1 \"GET /v2/54fadb412c4e40cdbaed9335e4c35a9e/servers/detail HTTP/1.1\" RCODE  200 len: 1874 time: 0.1794369']\n",
      "\n",
      "cluster (5, 147)------>Messages:\n",
      "['nova.compute.claims [req-a07ac654-8e81-416d-bfbb-189116b07969 113d3a99c3da401fbd62cc2caa5b96d2 54fadb412c4e40cdbaed9335e4c35a9e - - -] [instance: bf8c824d-f099-4433-a41e-e3da7578262e] Total memory: 64172 MB, used: 512.00 MB'\n",
      " 'nova.compute.claims [req-d6986b54-3735-4a42-9074-0ba7d9717de9 113d3a99c3da401fbd62cc2caa5b96d2 54fadb412c4e40cdbaed9335e4c35a9e - - -] [instance: af5f7392-f7d4-4298-b647-c98924c64aa1] memory limit: 96258.00 MB, free: 95746.00 MB'\n",
      " 'nova.compute.claims [req-72b4858f-049e-49e1-b31e-b562c5018eaf 113d3a99c3da401fbd62cc2caa5b96d2 54fadb412c4e40cdbaed9335e4c35a9e - - -] [instance: 63a0d960-70b6-44c6-b606-491478a5cadf] disk limit not specified, defaulting to unlimited'\n",
      " 'nova.compute.claims [req-5c8f52bd-8e3c-41f0-95a5-7861d247cafa 113d3a99c3da401fbd62cc2caa5b96d2 54fadb412c4e40cdbaed9335e4c35a9e - - -] [instance: d96a117b-0193-4549-bdcc-63b917273d1d] vcpu limit not specified, defaulting to unlimited'\n",
      " 'nova.compute.claims [req-d38f479d-9bb9-4276-9688-52607e8fd350 113d3a99c3da401fbd62cc2caa5b96d2 54fadb412c4e40cdbaed9335e4c35a9e - - -] [instance: 95960536-049b-41f6-9049-05fc479b6a7c] disk limit not specified, defaulting to unlimited']\n",
      "\n",
      "cluster (11, 100)------>Messages:\n",
      "['User User685 logged out.' 'User User395 logged in.'\n",
      " 'User User225 logged in.' 'User User494 logged out.'\n",
      " 'User User900 logged in.']\n",
      "\n",
      "cluster (13, 86)------>Messages:\n",
      "['Backup started at 2025-05-14 07:06:55.'\n",
      " 'Backup started at 2025-02-15 20:00:19.'\n",
      " 'Backup ended at 2025-08-08 13:06:23.'\n",
      " 'Backup started at 2025-11-14 08:27:43.'\n",
      " 'Backup started at 2025-12-09 10:19:11.']\n",
      "\n",
      "cluster (7, 60)------>Messages:\n",
      "['Multiple bad login attempts detected on user 8538 account'\n",
      " 'Multiple login failures occurred on user 9052 account'\n",
      " 'User 7153 made multiple incorrect login attempts'\n",
      " 'User 8300 made multiple incorrect login attempts'\n",
      " 'Multiple login failures were detected for user 6373']\n",
      "\n",
      "cluster (8, 60)------>Messages:\n",
      "['Backup completed successfully.' 'Backup completed successfully.'\n",
      " 'Backup completed successfully.' 'Backup completed successfully.'\n",
      " 'Backup completed successfully.']\n",
      "\n",
      "cluster (21, 58)------>Messages:\n",
      "['System updated to version 3.9.1.' 'System updated to version 5.5.4.'\n",
      " 'System updated to version 4.7.4.' 'System updated to version 3.7.7.'\n",
      " 'System updated to version 2.6.2.']\n",
      "\n",
      "cluster (3, 57)------>Messages:\n",
      "['Shard 6 replication task ended in failure'\n",
      " 'Data replication task for shard 14 did not complete'\n",
      " 'Data replication task failed for shard 17'\n",
      " 'Replication of data to shard 14 failed'\n",
      " 'Data replication task for shard 6 did not complete']\n",
      "\n",
      "cluster (4, 53)------>Messages:\n",
      "['File data_6169.csv uploaded successfully by user User953.'\n",
      " 'File data_3847.csv uploaded successfully by user User175.'\n",
      " 'File data_7366.csv uploaded successfully by user User282.'\n",
      " 'File data_1206.csv uploaded successfully by user User359.'\n",
      " 'File data_1503.csv uploaded successfully by user User151.']\n",
      "\n",
      "cluster (17, 52)------>Messages:\n",
      "['Denied access attempt on restricted account Account2682'\n",
      " 'Unauthorized login attempt on protected account Account5030'\n",
      " 'Account Account9437 blocked due to failed login'\n",
      " 'Account Account7999 access denied due to login failure'\n",
      " 'Invalid login attempt made on secured account Account7864']\n",
      "\n",
      "cluster (6, 51)------>Messages:\n",
      "['Critical system unit error: unit ID Component55'\n",
      " 'System component malfunction: component ID Component79'\n",
      " 'Critical system element is down: element ID Component96'\n",
      " 'Essential system part malfunction: part ID Component6'\n",
      " 'Failure occurred in critical system component: component ID Component92']\n",
      "\n",
      "cluster (32, 51)------>Messages:\n",
      "['Disk cleanup completed successfully.'\n",
      " 'Disk cleanup completed successfully.'\n",
      " 'Disk cleanup completed successfully.'\n",
      " 'Disk cleanup completed successfully.'\n",
      " 'Disk cleanup completed successfully.']\n",
      "\n",
      "cluster (16, 48)------>Messages:\n",
      "['System reboot initiated by user User243.'\n",
      " 'System reboot initiated by user User471.'\n",
      " 'System reboot initiated by user User216.'\n",
      " 'System reboot initiated by user User639.'\n",
      " 'System reboot initiated by user User819.']\n",
      "\n",
      "cluster (20, 48)------>Messages:\n",
      "['User 7662 tried to bypass API security measures'\n",
      " 'User 2367 failed to provide valid API access credentials'\n",
      " 'User 3569 made an unauthorized API request'\n",
      " 'Unauthorized user 2968 tried to access restricted API'\n",
      " 'User 2186 attempted to access API without proper authorization']\n",
      "\n",
      "cluster (9, 44)------>Messages:\n",
      "['Account with ID 5351 created by User634.'\n",
      " 'Account with ID 7813 created by User373.'\n",
      " 'Account with ID 9827 created by User965.'\n",
      " 'Account with ID 2520 created by User546.'\n",
      " 'Account with ID 2300 created by User964.']\n",
      "\n",
      "cluster (1, 39)------>Messages:\n",
      "['Email service experiencing issues with sending'\n",
      " 'Email server encountered a sending fault'\n",
      " 'Mail service encountered a delivery glitch'\n",
      " 'Service disruption caused by email sending error'\n",
      " 'Email system had a problem sending emails']\n",
      "\n",
      "cluster (10, 30)------>Messages:\n",
      "['nova.compute.resource_tracker [req-addc1839-2ed5-4778-b57e-5854eb7b8b09 - - - - -] Final resource view: name=cp-1.slowvm1.tcloud-pg0.utah.cloudlab.us phys_ram=64172MB used_ram=512MB phys_disk=15GB used_disk=0GB total_vcpus=16 used_vcpus=0 pci_stats=[]'\n",
      " 'nova.compute.resource_tracker [req-addc1839-2ed5-4778-b57e-5854eb7b8b09 - - - - -] Final resource view: name=cp-1.slowvm1.tcloud-pg0.utah.cloudlab.us phys_ram=64172MB used_ram=2560MB phys_disk=15GB used_disk=20GB total_vcpus=16 used_vcpus=1 pci_stats=[]'\n",
      " 'nova.compute.resource_tracker [req-addc1839-2ed5-4778-b57e-5854eb7b8b09 - - - - -] Total usable vcpus: 16, total allocated vcpus: 0'\n",
      " 'nova.compute.resource_tracker [req-addc1839-2ed5-4778-b57e-5854eb7b8b09 - - - - -] Final resource view: name=cp-1.slowvm1.tcloud-pg0.utah.cloudlab.us phys_ram=64172MB used_ram=2560MB phys_disk=15GB used_disk=20GB total_vcpus=16 used_vcpus=1 pci_stats=[]'\n",
      " 'nova.compute.resource_tracker [req-addc1839-2ed5-4778-b57e-5854eb7b8b09 - - - - -] Final resource view: name=cp-1.slowvm1.tcloud-pg0.utah.cloudlab.us phys_ram=64172MB used_ram=2560MB phys_disk=15GB used_disk=20GB total_vcpus=16 used_vcpus=1 pci_stats=[]']\n",
      "\n",
      "cluster (34, 25)------>Messages:\n",
      "['Abnormal behavior found on server 10, possible security threat'\n",
      " 'Security alert: suspicious activity on server 1'\n",
      " 'Anomalous activity identified on server 23, security review recommended'\n",
      " 'Server 27 experienced potential security incident, review required'\n",
      " 'Server 36 experienced potential security incident, review required']\n",
      "\n",
      "cluster (53, 20)------>Messages:\n",
      "['Module X experienced an invalid data format issue'\n",
      " 'Input format mismatch occurred in module X'\n",
      " 'Module X reported an error in input format validation'\n",
      " 'Module X failed to process input due to formatting error'\n",
      " 'Input data format in module X was invalid or corrupted']\n",
      "\n",
      "cluster (14, 20)------>Messages:\n",
      "['Detection of multiple disk faults in RAID setup'\n",
      " 'RAID array suffered multiple hard drive failures'\n",
      " 'RAID array experienced multiple disk crashes'\n",
      " 'Multiple hard drive issues in RAID configuration found'\n",
      " 'Identification of multiple faulty disks in RAID array']\n",
      "\n",
      "cluster (52, 20)------>Messages:\n",
      "['Service health check was not successful because of SSL certificate validation failures.'\n",
      " 'Invalid SSL certificate resulted in a failed service health check.'\n",
      " 'Service health check failure was due to an invalid or improperly configured SSL certificate.'\n",
      " 'An issue with the SSL certificate caused the service health check to fail.'\n",
      " 'Service health check failure was caused by an expired SSL certificate.']\n",
      "\n",
      "cluster (18, 17)------>Messages:\n",
      "['Boot process terminated unexpectedly due to kernel issue'\n",
      " 'System encountered kernel panic during initialization phase'\n",
      " 'Boot process was stopped by kernel malfunction'\n",
      " 'System encountered kernel failure during bootup sequence'\n",
      " 'Boot sequence failed due to kernel panic']\n",
      "\n",
      "cluster (42, 13)------>Messages:\n",
      "['User 5127 has escalated admin privileges without authorization'\n",
      " 'User 9745 has escalated to admin level'\n",
      " 'User 8483 escalated privileges to admin level'\n",
      " 'User 1987 has escalated to admin level'\n",
      " 'User 8395 escalated privileges to admin level']\n",
      "\n",
      "cluster (25, 13)------>Messages:\n",
      "['System configuration is no longer valid'\n",
      " 'Configuration is corrupted throughout the system'\n",
      " 'Cross-system configuration failure occurred'\n",
      " 'System configuration is experiencing errors'\n",
      " 'Configuration malfunction is system-wide']\n",
      "\n",
      "cluster (59, 12)------>Messages:\n",
      "['Potential security threat: Admin privilege escalation for user 5130'\n",
      " 'Admin privilege escalation alert for user 2893'\n",
      " 'Admin privilege escalation alert for user 8532'\n",
      " 'Potential security threat: Admin privilege escalation for user 1554'\n",
      " 'Warning: Potential admin privilege escalation for user 5720']\n",
      "\n",
      "cluster (26, 11)------>Messages:\n",
      "['Privilege elevation detected for user 5038'\n",
      " 'Elevation of admin privileges detected for user 6137'\n",
      " 'Elevation of admin privileges detected for user 4907'\n",
      " 'User 6069 has been granted elevated admin privileges'\n",
      " 'Admin privilege elevation warning for user 7574']\n",
      "\n"
     ]
    }
   ],
   "source": [
    "temp=df.cluster.value_counts()\n",
    "temp=temp[temp>10]\n",
    "for index,val in temp.items():\n",
    "    # print(index,val)\n",
    "    logs=df[df['cluster']==index]['log_message'][:5].values\n",
    "    print(f'cluster {index,val}------>Messages:\\n{logs}\\n')"
   ]
  },
  {
   "cell_type": "code",
   "execution_count": 67,
   "id": "3d5b0bff-b534-4106-a3a7-63d4ad175604",
   "metadata": {
    "scrolled": true
   },
   "outputs": [
    {
     "data": {
      "text/plain": [
       "array(['HTTP Status'], dtype=object)"
      ]
     },
     "execution_count": 67,
     "metadata": {},
     "output_type": "execute_result"
    }
   ],
   "source": [
    "df[df['cluster']==0].target_label.unique()"
   ]
  },
  {
   "cell_type": "code",
   "execution_count": 69,
   "id": "314c7436-2515-40c9-9575-cf06169755af",
   "metadata": {},
   "outputs": [],
   "source": [
    "import re\n",
    "def classify_with_regex(log_message):\n",
    "    regex_patterns = {\n",
    "        r\"User User\\d+ logged (in|out).\": \"User Action\",\n",
    "        r\"Backup (started|ended) at .*\": \"System Notification\",\n",
    "        r\"Backup completed successfully.\": \"System Notification\",\n",
    "        r\"System updated to version .*\": \"System Notification\",\n",
    "        r\"File .* uploaded successfully by user .*\": \"System Notification\",\n",
    "        r\"Disk cleanup completed successfully.\": \"System Notification\",\n",
    "        r\"System reboot initiated by user .*\": \"System Notification\",\n",
    "        r\"Account with ID .* created by .*\": \"User Action\"\n",
    "    }\n",
    "    for pattern, label in regex_patterns.items():\n",
    "        if re.search(pattern, log_message):\n",
    "            return label\n",
    "    return None"
   ]
  },
  {
   "cell_type": "code",
   "execution_count": 113,
   "id": "b383d0bd-e69f-4c63-a0d8-1680d441fc53",
   "metadata": {},
   "outputs": [
    {
     "name": "stdout",
     "output_type": "stream",
     "text": [
      "User Action\n",
      "System Notification\n"
     ]
    }
   ],
   "source": [
    "print(classify_with_regex(\"User User123 logged in.\"))\n",
    "print(classify_with_regex(\"System reboot initiated by user User179.\"))"
   ]
  },
  {
   "cell_type": "code",
   "execution_count": 72,
   "id": "16371548-baa0-4b4d-a492-a38713b73632",
   "metadata": {},
   "outputs": [
    {
     "data": {
      "text/html": [
       "<div>\n",
       "<style scoped>\n",
       "    .dataframe tbody tr th:only-of-type {\n",
       "        vertical-align: middle;\n",
       "    }\n",
       "\n",
       "    .dataframe tbody tr th {\n",
       "        vertical-align: top;\n",
       "    }\n",
       "\n",
       "    .dataframe thead th {\n",
       "        text-align: right;\n",
       "    }\n",
       "</style>\n",
       "<table border=\"1\" class=\"dataframe\">\n",
       "  <thead>\n",
       "    <tr style=\"text-align: right;\">\n",
       "      <th></th>\n",
       "      <th>timestamp</th>\n",
       "      <th>source</th>\n",
       "      <th>log_message</th>\n",
       "      <th>target_label</th>\n",
       "      <th>cluster</th>\n",
       "      <th>regex_label</th>\n",
       "    </tr>\n",
       "  </thead>\n",
       "  <tbody>\n",
       "    <tr>\n",
       "      <th>0</th>\n",
       "      <td>2025-06-27 07:20:25</td>\n",
       "      <td>ModernCRM</td>\n",
       "      <td>nova.osapi_compute.wsgi.server [req-b9718cd8-f...</td>\n",
       "      <td>HTTP Status</td>\n",
       "      <td>0</td>\n",
       "      <td>None</td>\n",
       "    </tr>\n",
       "    <tr>\n",
       "      <th>1</th>\n",
       "      <td>1/14/2025 23:07</td>\n",
       "      <td>ModernCRM</td>\n",
       "      <td>Email service experiencing issues with sending</td>\n",
       "      <td>Critical Error</td>\n",
       "      <td>1</td>\n",
       "      <td>None</td>\n",
       "    </tr>\n",
       "    <tr>\n",
       "      <th>2</th>\n",
       "      <td>1/17/2025 1:29</td>\n",
       "      <td>AnalyticsEngine</td>\n",
       "      <td>Unauthorized access to data was attempted</td>\n",
       "      <td>Security Alert</td>\n",
       "      <td>2</td>\n",
       "      <td>None</td>\n",
       "    </tr>\n",
       "    <tr>\n",
       "      <th>3</th>\n",
       "      <td>2025-07-12 00:24:16</td>\n",
       "      <td>ModernHR</td>\n",
       "      <td>nova.osapi_compute.wsgi.server [req-4895c258-b...</td>\n",
       "      <td>HTTP Status</td>\n",
       "      <td>0</td>\n",
       "      <td>None</td>\n",
       "    </tr>\n",
       "    <tr>\n",
       "      <th>4</th>\n",
       "      <td>2025-06-02 18:25:23</td>\n",
       "      <td>BillingSystem</td>\n",
       "      <td>nova.osapi_compute.wsgi.server [req-ee8bc8ba-9...</td>\n",
       "      <td>HTTP Status</td>\n",
       "      <td>0</td>\n",
       "      <td>None</td>\n",
       "    </tr>\n",
       "  </tbody>\n",
       "</table>\n",
       "</div>"
      ],
      "text/plain": [
       "             timestamp           source  \\\n",
       "0  2025-06-27 07:20:25        ModernCRM   \n",
       "1      1/14/2025 23:07        ModernCRM   \n",
       "2       1/17/2025 1:29  AnalyticsEngine   \n",
       "3  2025-07-12 00:24:16         ModernHR   \n",
       "4  2025-06-02 18:25:23    BillingSystem   \n",
       "\n",
       "                                         log_message    target_label  cluster  \\\n",
       "0  nova.osapi_compute.wsgi.server [req-b9718cd8-f...     HTTP Status        0   \n",
       "1     Email service experiencing issues with sending  Critical Error        1   \n",
       "2          Unauthorized access to data was attempted  Security Alert        2   \n",
       "3  nova.osapi_compute.wsgi.server [req-4895c258-b...     HTTP Status        0   \n",
       "4  nova.osapi_compute.wsgi.server [req-ee8bc8ba-9...     HTTP Status        0   \n",
       "\n",
       "  regex_label  \n",
       "0        None  \n",
       "1        None  \n",
       "2        None  \n",
       "3        None  \n",
       "4        None  "
      ]
     },
     "execution_count": 72,
     "metadata": {},
     "output_type": "execute_result"
    }
   ],
   "source": [
    "df['regex_label']=df['log_message'].apply(lambda x: classify_with_regex(x))\n",
    "df.head()"
   ]
  },
  {
   "cell_type": "code",
   "execution_count": 75,
   "id": "d6b64cee-5892-45a6-bbad-09e41f946580",
   "metadata": {},
   "outputs": [
    {
     "data": {
      "text/html": [
       "<div>\n",
       "<style scoped>\n",
       "    .dataframe tbody tr th:only-of-type {\n",
       "        vertical-align: middle;\n",
       "    }\n",
       "\n",
       "    .dataframe tbody tr th {\n",
       "        vertical-align: top;\n",
       "    }\n",
       "\n",
       "    .dataframe thead th {\n",
       "        text-align: right;\n",
       "    }\n",
       "</style>\n",
       "<table border=\"1\" class=\"dataframe\">\n",
       "  <thead>\n",
       "    <tr style=\"text-align: right;\">\n",
       "      <th></th>\n",
       "      <th>timestamp</th>\n",
       "      <th>source</th>\n",
       "      <th>log_message</th>\n",
       "      <th>target_label</th>\n",
       "      <th>cluster</th>\n",
       "      <th>regex_label</th>\n",
       "    </tr>\n",
       "  </thead>\n",
       "  <tbody>\n",
       "    <tr>\n",
       "      <th>7</th>\n",
       "      <td>10/11/2025 8:44</td>\n",
       "      <td>ModernHR</td>\n",
       "      <td>File data_6169.csv uploaded successfully by us...</td>\n",
       "      <td>System Notification</td>\n",
       "      <td>4</td>\n",
       "      <td>System Notification</td>\n",
       "    </tr>\n",
       "    <tr>\n",
       "      <th>14</th>\n",
       "      <td>1/4/2025 1:43</td>\n",
       "      <td>ThirdPartyAPI</td>\n",
       "      <td>File data_3847.csv uploaded successfully by us...</td>\n",
       "      <td>System Notification</td>\n",
       "      <td>4</td>\n",
       "      <td>System Notification</td>\n",
       "    </tr>\n",
       "    <tr>\n",
       "      <th>15</th>\n",
       "      <td>5/1/2025 9:41</td>\n",
       "      <td>ModernCRM</td>\n",
       "      <td>Backup completed successfully.</td>\n",
       "      <td>System Notification</td>\n",
       "      <td>8</td>\n",
       "      <td>System Notification</td>\n",
       "    </tr>\n",
       "    <tr>\n",
       "      <th>18</th>\n",
       "      <td>2/22/2025 17:49</td>\n",
       "      <td>ModernCRM</td>\n",
       "      <td>Account with ID 5351 created by User634.</td>\n",
       "      <td>User Action</td>\n",
       "      <td>9</td>\n",
       "      <td>User Action</td>\n",
       "    </tr>\n",
       "    <tr>\n",
       "      <th>27</th>\n",
       "      <td>9/24/2025 19:57</td>\n",
       "      <td>ThirdPartyAPI</td>\n",
       "      <td>User User685 logged out.</td>\n",
       "      <td>User Action</td>\n",
       "      <td>11</td>\n",
       "      <td>User Action</td>\n",
       "    </tr>\n",
       "    <tr>\n",
       "      <th>...</th>\n",
       "      <td>...</td>\n",
       "      <td>...</td>\n",
       "      <td>...</td>\n",
       "      <td>...</td>\n",
       "      <td>...</td>\n",
       "      <td>...</td>\n",
       "    </tr>\n",
       "    <tr>\n",
       "      <th>2376</th>\n",
       "      <td>6/27/2025 8:47</td>\n",
       "      <td>ModernCRM</td>\n",
       "      <td>System updated to version 2.0.5.</td>\n",
       "      <td>System Notification</td>\n",
       "      <td>21</td>\n",
       "      <td>System Notification</td>\n",
       "    </tr>\n",
       "    <tr>\n",
       "      <th>2381</th>\n",
       "      <td>9/5/2025 6:39</td>\n",
       "      <td>ThirdPartyAPI</td>\n",
       "      <td>Disk cleanup completed successfully.</td>\n",
       "      <td>System Notification</td>\n",
       "      <td>32</td>\n",
       "      <td>System Notification</td>\n",
       "    </tr>\n",
       "    <tr>\n",
       "      <th>2394</th>\n",
       "      <td>4/3/2025 13:13</td>\n",
       "      <td>ModernHR</td>\n",
       "      <td>Disk cleanup completed successfully.</td>\n",
       "      <td>System Notification</td>\n",
       "      <td>32</td>\n",
       "      <td>System Notification</td>\n",
       "    </tr>\n",
       "    <tr>\n",
       "      <th>2395</th>\n",
       "      <td>5/2/2025 14:29</td>\n",
       "      <td>ThirdPartyAPI</td>\n",
       "      <td>Backup ended at 2025-05-06 11:23:16.</td>\n",
       "      <td>System Notification</td>\n",
       "      <td>13</td>\n",
       "      <td>System Notification</td>\n",
       "    </tr>\n",
       "    <tr>\n",
       "      <th>2403</th>\n",
       "      <td>10/1/2025 1:31</td>\n",
       "      <td>ModernCRM</td>\n",
       "      <td>Backup completed successfully.</td>\n",
       "      <td>System Notification</td>\n",
       "      <td>8</td>\n",
       "      <td>System Notification</td>\n",
       "    </tr>\n",
       "  </tbody>\n",
       "</table>\n",
       "<p>500 rows × 6 columns</p>\n",
       "</div>"
      ],
      "text/plain": [
       "            timestamp         source  \\\n",
       "7     10/11/2025 8:44       ModernHR   \n",
       "14      1/4/2025 1:43  ThirdPartyAPI   \n",
       "15      5/1/2025 9:41      ModernCRM   \n",
       "18    2/22/2025 17:49      ModernCRM   \n",
       "27    9/24/2025 19:57  ThirdPartyAPI   \n",
       "...               ...            ...   \n",
       "2376   6/27/2025 8:47      ModernCRM   \n",
       "2381    9/5/2025 6:39  ThirdPartyAPI   \n",
       "2394   4/3/2025 13:13       ModernHR   \n",
       "2395   5/2/2025 14:29  ThirdPartyAPI   \n",
       "2403   10/1/2025 1:31      ModernCRM   \n",
       "\n",
       "                                            log_message         target_label  \\\n",
       "7     File data_6169.csv uploaded successfully by us...  System Notification   \n",
       "14    File data_3847.csv uploaded successfully by us...  System Notification   \n",
       "15                       Backup completed successfully.  System Notification   \n",
       "18             Account with ID 5351 created by User634.          User Action   \n",
       "27                             User User685 logged out.          User Action   \n",
       "...                                                 ...                  ...   \n",
       "2376                   System updated to version 2.0.5.  System Notification   \n",
       "2381               Disk cleanup completed successfully.  System Notification   \n",
       "2394               Disk cleanup completed successfully.  System Notification   \n",
       "2395               Backup ended at 2025-05-06 11:23:16.  System Notification   \n",
       "2403                     Backup completed successfully.  System Notification   \n",
       "\n",
       "      cluster          regex_label  \n",
       "7           4  System Notification  \n",
       "14          4  System Notification  \n",
       "15          8  System Notification  \n",
       "18          9          User Action  \n",
       "27         11          User Action  \n",
       "...       ...                  ...  \n",
       "2376       21  System Notification  \n",
       "2381       32  System Notification  \n",
       "2394       32  System Notification  \n",
       "2395       13  System Notification  \n",
       "2403        8  System Notification  \n",
       "\n",
       "[500 rows x 6 columns]"
      ]
     },
     "execution_count": 75,
     "metadata": {},
     "output_type": "execute_result"
    }
   ],
   "source": [
    "df[df['regex_label'].notna()]"
   ]
  },
  {
   "cell_type": "code",
   "execution_count": 76,
   "id": "8c22e8c6-0f28-4d4c-b45f-e25e6f03d6c5",
   "metadata": {},
   "outputs": [
    {
     "data": {
      "text/plain": [
       "(1910, 6)"
      ]
     },
     "execution_count": 76,
     "metadata": {},
     "output_type": "execute_result"
    }
   ],
   "source": [
    "df_nonregex=df[df['regex_label'].isnull()]\n",
    "df_nonregex.shape"
   ]
  },
  {
   "cell_type": "markdown",
   "id": "5704b215-5be1-44c8-b81a-0059c267f7f8",
   "metadata": {},
   "source": [
    "### BERT"
   ]
  },
  {
   "cell_type": "code",
   "execution_count": 80,
   "id": "bd03430e-6f91-4968-aea5-ddd1fe9682c9",
   "metadata": {},
   "outputs": [
    {
     "data": {
      "text/plain": [
       "target_label\n",
       "HTTP Status            1017\n",
       "Security Alert          371\n",
       "Error                   177\n",
       "Resource Usage          177\n",
       "Critical Error          161\n",
       "Workflow Error            4\n",
       "Deprecation Warning       3\n",
       "Name: count, dtype: int64"
      ]
     },
     "execution_count": 80,
     "metadata": {},
     "output_type": "execute_result"
    }
   ],
   "source": [
    "df_nonregex.target_label.value_counts()"
   ]
  },
  {
   "cell_type": "code",
   "execution_count": 83,
   "id": "848ed38d-f8d5-4e1d-b27b-b5c4a7a024d5",
   "metadata": {},
   "outputs": [
    {
     "data": {
      "text/plain": [
       "target_label\n",
       "HTTP Status       1017\n",
       "Security Alert     371\n",
       "Error              177\n",
       "Resource Usage     177\n",
       "Critical Error     161\n",
       "Name: count, dtype: int64"
      ]
     },
     "execution_count": 83,
     "metadata": {},
     "output_type": "execute_result"
    }
   ],
   "source": [
    "cols=['Workflow Error','Deprecation Warning']\n",
    "df_bert=df_nonregex[~df_nonregex['target_label'].isin(cols)]\n",
    "df_bert.target_label.value_counts()"
   ]
  },
  {
   "cell_type": "code",
   "execution_count": 84,
   "id": "be072722-d993-42c4-930b-4c49d300c1ff",
   "metadata": {},
   "outputs": [
    {
     "data": {
      "text/plain": [
       "(1903, 384)"
      ]
     },
     "execution_count": 84,
     "metadata": {},
     "output_type": "execute_result"
    }
   ],
   "source": [
    "filtered_embeddings=model.encode(df_bert['log_message'].tolist())\n",
    "filtered_embeddings.shape"
   ]
  },
  {
   "cell_type": "code",
   "execution_count": 104,
   "id": "0bf42afe-81bf-4c5f-ad95-71849e2dc97d",
   "metadata": {},
   "outputs": [
    {
     "name": "stdout",
     "output_type": "stream",
     "text": [
      "                precision    recall  f1-score   support\n",
      "\n",
      "Critical Error       0.91      1.00      0.95        48\n",
      "         Error       0.98      0.89      0.93        47\n",
      "   HTTP Status       1.00      1.00      1.00       304\n",
      "Resource Usage       1.00      1.00      1.00        49\n",
      "Security Alert       1.00      0.99      1.00       123\n",
      "\n",
      "      accuracy                           0.99       571\n",
      "     macro avg       0.98      0.98      0.98       571\n",
      "  weighted avg       0.99      0.99      0.99       571\n",
      "\n"
     ]
    }
   ],
   "source": [
    "X=filtered_embeddings\n",
    "y=df_bert['target_label'].values\n",
    "\n",
    "X_train, X_test, y_train, y_test,train_original_indices,test_original_indices = train_test_split(X, y,df_bert.index, test_size=0.3, random_state=42)\n",
    "clf=LogisticRegression()\n",
    "clf.fit(X_train,y_train)\n",
    "y_pred=clf.predict(X_test)\n",
    "print(classification_report(y_test,y_pred))"
   ]
  },
  {
   "cell_type": "code",
   "execution_count": 105,
   "id": "d9471277-a92e-4bc2-af2d-f10d628dddef",
   "metadata": {},
   "outputs": [
    {
     "data": {
      "image/png": "[encoded data removed]",
      "text/plain": [
       "<Figure size 640x480 with 2 Axes>"
      ]
     },
     "metadata": {},
     "output_type": "display_data"
    }
   ],
   "source": [
    "sns.heatmap(confusion_matrix(y_test,y_pred),annot=True,fmt='d')\n",
    "plt.title('Confusion Matrix')\n",
    "plt.xlabel('Predicted Label')\n",
    "plt.ylabel('True Label')\n",
    "plt.show()"
   ]
  },
  {
   "cell_type": "code",
   "execution_count": 108,
   "id": "3ee7ba39-cc6c-4602-89e2-1b6c2b08dad0",
   "metadata": {},
   "outputs": [],
   "source": [
    "misclassified_mask_in_test_set = (y_pred != y_test)\n",
    "original_indices_of_misclassified = test_original_indices[misclassified_mask_in_test_set]\n",
    "wrongly_predicted_df_rows = df_bert.loc[original_indices_of_misclassified].copy()\n",
    "wrongly_predicted_df_rows['predicted_label'] = y_pred[misclassified_mask_in_test_set]"
   ]
  },
  {
   "cell_type": "code",
   "execution_count": 109,
   "id": "d3fd6e6f-9295-4454-b662-6575fe7d5754",
   "metadata": {
    "scrolled": true
   },
   "outputs": [
    {
     "data": {
      "text/html": [
       "<div>\n",
       "<style scoped>\n",
       "    .dataframe tbody tr th:only-of-type {\n",
       "        vertical-align: middle;\n",
       "    }\n",
       "\n",
       "    .dataframe tbody tr th {\n",
       "        vertical-align: top;\n",
       "    }\n",
       "\n",
       "    .dataframe thead th {\n",
       "        text-align: right;\n",
       "    }\n",
       "</style>\n",
       "<table border=\"1\" class=\"dataframe\">\n",
       "  <thead>\n",
       "    <tr style=\"text-align: right;\">\n",
       "      <th></th>\n",
       "      <th>timestamp</th>\n",
       "      <th>source</th>\n",
       "      <th>log_message</th>\n",
       "      <th>target_label</th>\n",
       "      <th>cluster</th>\n",
       "      <th>regex_label</th>\n",
       "      <th>predicted_label</th>\n",
       "    </tr>\n",
       "  </thead>\n",
       "  <tbody>\n",
       "    <tr>\n",
       "      <th>2312</th>\n",
       "      <td>3/9/2025 21:16</td>\n",
       "      <td>ModernHR</td>\n",
       "      <td>Email service faced a delivery obstacle</td>\n",
       "      <td>Error</td>\n",
       "      <td>1</td>\n",
       "      <td>None</td>\n",
       "      <td>Critical Error</td>\n",
       "    </tr>\n",
       "    <tr>\n",
       "      <th>1414</th>\n",
       "      <td>6/22/2025 23:07</td>\n",
       "      <td>ModernCRM</td>\n",
       "      <td>Email system encountered a sending error</td>\n",
       "      <td>Error</td>\n",
       "      <td>1</td>\n",
       "      <td>None</td>\n",
       "      <td>Critical Error</td>\n",
       "    </tr>\n",
       "    <tr>\n",
       "      <th>1175</th>\n",
       "      <td>4/21/2025 2:17</td>\n",
       "      <td>AnalyticsEngine</td>\n",
       "      <td>Unapproved data transfer attempt was detected</td>\n",
       "      <td>Security Alert</td>\n",
       "      <td>97</td>\n",
       "      <td>None</td>\n",
       "      <td>Error</td>\n",
       "    </tr>\n",
       "    <tr>\n",
       "      <th>1867</th>\n",
       "      <td>10/6/2025 11:04</td>\n",
       "      <td>ModernCRM</td>\n",
       "      <td>Email service had a sending malfunction</td>\n",
       "      <td>Error</td>\n",
       "      <td>1</td>\n",
       "      <td>None</td>\n",
       "      <td>Critical Error</td>\n",
       "    </tr>\n",
       "    <tr>\n",
       "      <th>926</th>\n",
       "      <td>2/17/2025 8:01</td>\n",
       "      <td>ModernCRM</td>\n",
       "      <td>Email service suffered a delivery failure</td>\n",
       "      <td>Error</td>\n",
       "      <td>1</td>\n",
       "      <td>None</td>\n",
       "      <td>Critical Error</td>\n",
       "    </tr>\n",
       "    <tr>\n",
       "      <th>217</th>\n",
       "      <td>1/22/2025 5:45</td>\n",
       "      <td>BillingSystem</td>\n",
       "      <td>Mail service encountered a delivery glitch</td>\n",
       "      <td>Error</td>\n",
       "      <td>1</td>\n",
       "      <td>None</td>\n",
       "      <td>Critical Error</td>\n",
       "    </tr>\n",
       "  </tbody>\n",
       "</table>\n",
       "</div>"
      ],
      "text/plain": [
       "            timestamp           source  \\\n",
       "2312   3/9/2025 21:16         ModernHR   \n",
       "1414  6/22/2025 23:07        ModernCRM   \n",
       "1175   4/21/2025 2:17  AnalyticsEngine   \n",
       "1867  10/6/2025 11:04        ModernCRM   \n",
       "926    2/17/2025 8:01        ModernCRM   \n",
       "217    1/22/2025 5:45    BillingSystem   \n",
       "\n",
       "                                        log_message    target_label  cluster  \\\n",
       "2312        Email service faced a delivery obstacle           Error        1   \n",
       "1414       Email system encountered a sending error           Error        1   \n",
       "1175  Unapproved data transfer attempt was detected  Security Alert       97   \n",
       "1867        Email service had a sending malfunction           Error        1   \n",
       "926       Email service suffered a delivery failure           Error        1   \n",
       "217      Mail service encountered a delivery glitch           Error        1   \n",
       "\n",
       "     regex_label predicted_label  \n",
       "2312        None  Critical Error  \n",
       "1414        None  Critical Error  \n",
       "1175        None           Error  \n",
       "1867        None  Critical Error  \n",
       "926         None  Critical Error  \n",
       "217         None  Critical Error  "
      ]
     },
     "execution_count": 109,
     "metadata": {},
     "output_type": "execute_result"
    }
   ],
   "source": [
    "wrongly_predicted_df_rows"
   ]
  },
  {
   "cell_type": "code",
   "execution_count": null,
   "id": "2ad77abf-3cc3-41a3-8455-64902a3c4e02",
   "metadata": {},
   "outputs": [
    {
     "data": {
      "text/plain": [
       "['log_classifier.joblib']"
      ]
     },
     "execution_count": 112,
     "metadata": {},
     "output_type": "execute_result"
    }
   ],
   "source": [
    "import joblib\n",
    "joblib.dump(clf,'../Models/log_classifier.joblib')"
   ]
  },
  {
   "cell_type": "code",
   "execution_count": null,
   "id": "585eed45-91a9-493c-b152-948ffab94589",
   "metadata": {},
   "outputs": [],
   "source": []
  }
 ],
 "metadata": {
  "kernelspec": {
   "display_name": "Python 3 (ipykernel)",
   "language": "python",
   "name": "python3"
  },
  "language_info": {
   "codemirror_mode": {
    "name": "ipython",
    "version": 3
   },
   "file_extension": ".py",
   "mimetype": "text/x-python",
   "name": "python",
   "nbconvert_exporter": "python",
   "pygments_lexer": "ipython3",
   "version": "3.12.4"
  }
 },
 "nbformat": 4,
 "nbformat_minor": 5
}
